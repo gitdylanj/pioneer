{
 "cells": [
  {
   "cell_type": "code",
   "execution_count": 1,
   "metadata": {},
   "outputs": [],
   "source": [
    "import uproot\n",
    "import matplotlib.pyplot as plt\n",
    "import hist as Hist\n",
    "import numpy as np"
   ]
  },
  {
   "cell_type": "code",
   "execution_count": null,
   "metadata": {},
   "outputs": [],
   "source": [
    "def build_spline(hist):\n",
    "    '''\n",
    "        Builds a cubic spline to interpolate the energy sharing\n",
    "        distribution histogram\n",
    "    '''\n",
    "    from scipy.interpolate import UnivariateSpline, CubicSpline\n",
    "    \n",
    "    centers = hist.axes[0].centers\n",
    "\n",
    "    amps = hist.values()/np.amax(hist.values())\n",
    "\n",
    "    spline = CubicSpline(centers, amps, extrapolate = False)\n",
    "\n",
    "    return spline"
   ]
  },
  {
   "cell_type": "code",
   "execution_count": null,
   "metadata": {},
   "outputs": [],
   "source": [
    "ref_data = './BNL_Signal_Response.root'\n",
    "\n",
    "f = uproot.open(ref_data)\n",
    "\n",
    "h = f['pmax_histogram'].to_hist()\n",
    "\n",
    "defaultspline = build_spline(h)\n",
    "\n",
    "h.plot()\n",
    "\n",
    "h.axes"
   ]
  },
  {
   "cell_type": "code",
   "execution_count": null,
   "metadata": {},
   "outputs": [],
   "source": [
    "tfile = uproot.recreate('testfile.root')\n",
    "tfile.keys()"
   ]
  },
  {
   "cell_type": "code",
   "execution_count": null,
   "metadata": {},
   "outputs": [],
   "source": [
    "tfile['hist'] = np.histogram(np.random.normal(0, 1, 10000))"
   ]
  },
  {
   "cell_type": "code",
   "execution_count": null,
   "metadata": {},
   "outputs": [],
   "source": [
    "tfile['branch/leaf/fruit'] = np.histogram(np.random.normal(0, 1, 10000))"
   ]
  },
  {
   "cell_type": "code",
   "execution_count": null,
   "metadata": {},
   "outputs": [],
   "source": [
    "with uproot.open('testfile.root') as f:\n",
    "    k =f.keys()\n",
    "    print(k)\n",
    "    h =f['hist'].to_hist()\n",
    "    h.plot()\n"
   ]
  },
  {
   "cell_type": "code",
   "execution_count": null,
   "metadata": {},
   "outputs": [],
   "source": [
    "#Successfully deleted a branch \n",
    "\n",
    "\n",
    "file = uproot.update('/home/dylan/pioneer/atar_waveform/dylansversion/testfile.root')\n",
    "\n",
    "print(file.show())\n",
    "\n",
    "del file['hist']\n",
    "\n",
    "print(file.keys())"
   ]
  },
  {
   "cell_type": "code",
   "execution_count": null,
   "metadata": {},
   "outputs": [],
   "source": [
    "source = r'/home/dylan/pioneer/atar_waveform/dylansversion/testfile.root'\n",
    "dest = os.getcwd() + \"/digitized.root\"\n",
    "shutil.copyfile(source, dest)\n"
   ]
  },
  {
   "cell_type": "code",
   "execution_count": null,
   "metadata": {},
   "outputs": [],
   "source": [
    "with uproot.open('digitized.root')  as tfile:\n",
    "    print(tfile.keys())"
   ]
  },
  {
   "cell_type": "code",
   "execution_count": null,
   "metadata": {},
   "outputs": [],
   "source": [
    "atar_data = uproot.open('/home/dylan/pioneer/simulationdata/pienux_out_stripped.root:atar')\n",
    "atar_data.keys()"
   ]
  },
  {
   "cell_type": "code",
   "execution_count": null,
   "metadata": {},
   "outputs": [],
   "source": [
    "import os \n",
    "import shutil\n",
    "\n",
    "tdict = {'k1':[1, 2, 3], 'k2':[3, 4, 5]}\n",
    "root_path = r'/home/dylan/pioneer/simulationdata/pienux_out_stripped.root'\n",
    "\n",
    "dest = os.getcwd() + '/digitized' + os.path.basename(root_path)\n",
    "\n",
    "shutil.copy(root_path, dest) \n",
    "\n",
    "\n",
    "\n",
    "with uproot.update(dest) as f:\n",
    "    f['digitizedatar'] = {'b1':np.arange(1000)}\n",
    "\n",
    "with uproot.open(dest) as f:\n",
    "    print(f.keys())\n",
    "    print(f['digitizedatar'].keys())\n",
    "    h = f['digitizedatar']['b1']\n",
    "    print(h.array())\n",
    "    \n",
    "\n",
    "    \n",
    "     \n",
    "\n",
    "\n",
    "\n"
   ]
  },
  {
   "cell_type": "code",
   "execution_count": 6,
   "metadata": {},
   "outputs": [
    {
     "name": "stdout",
     "output_type": "stream",
     "text": [
      "['pixel_pdg', 'pixel_edep', 'pixel_time', 'pixel_hits']\n"
     ]
    }
   ],
   "source": [
    "with uproot.open('/home/dylan/pioneer/atar_waveform/dylansversion/digitizedpienux_out_stripped.root:digitized_atar') as f:\n",
    "    print(f.keys())"
   ]
  },
  {
   "cell_type": "code",
   "execution_count": 1,
   "metadata": {},
   "outputs": [
    {
     "ename": "IndentationError",
     "evalue": "expected an indented block (2091542556.py, line 113)",
     "output_type": "error",
     "traceback": [
      "\u001b[0;36m  Input \u001b[0;32mIn [1]\u001b[0;36m\u001b[0m\n\u001b[0;31m    f['digitizedatar'] = tree\u001b[0m\n\u001b[0m    ^\u001b[0m\n\u001b[0;31mIndentationError\u001b[0m\u001b[0;31m:\u001b[0m expected an indented block\n"
     ]
    }
   ],
   "source": [
    "class new_digitizeatar:\n",
    "\n",
    "    '''\n",
    "        This class computes energy sharing in the Atar. It has methods to build a spline\n",
    "        and return atar data with energysharing computed. You must initialized the class\n",
    "        with a path to a histogram to build the spline. This spline, once built, can be\n",
    "        passed into the compute energysharing method to return updated data. \n",
    "    '''\n",
    "\n",
    "    #The following are class variables based on Atar simulation parameters. \n",
    "\n",
    "\n",
    "    pixels_per_plane = 100\n",
    "    pixel_pitch = 200\n",
    "\n",
    "\n",
    "\n",
    "    #Here is a given path to a spline './BNL_Signal_Response.root'\n",
    "\n",
    "    def __init__(self, path_to_spline):\n",
    "        \n",
    "        #Energysharing spline path must be provided by the user. \n",
    "\n",
    "        self.path_to_spline =  path_to_spline\n",
    "\n",
    "\n",
    "    #For the paramaters in the atar simulation, the number of slits accessible on either side is two.\n",
    "\n",
    "    def get_adjacent_strips(self, pixel, pixels_per_plane = pixels_per_plane, n = 2):\n",
    "        '''\n",
    "        Returns n adjacent strips within the same plane from a given strip (pixel). \n",
    "        N is determined by the spline width and can be adjusted as necessary. \n",
    "        Assumed pixel pitch of 200 microns and a spline width of 600 microns.\n",
    "        '''\n",
    "        return [(pixel + x) for x in range(-n, n+1) if int(np.ceil(float((pixel + x)/pixels_per_plane))) == int(np.ceil(float(pixel)/pixels_per_plane))]\n",
    "        \n",
    "\n",
    "\n",
    "    def build_spline(self):\n",
    "        '''\n",
    "            Builds a cubic spline to interpolate the energy sharing\n",
    "            distribution histogram. Has a default spline if no other data is given.\n",
    "        '''\n",
    "\n",
    "        with uproot.open(self.path_to_spline) as f:\n",
    "\n",
    "            h = f['pmax_histogram'].to_hist()\n",
    "\n",
    "\n",
    "            from scipy.interpolate import UnivariateSpline, CubicSpline\n",
    "\n",
    "            centers = h.axes.centers[0]\n",
    "            \n",
    "            amps = h.values()/np.amax(h.values())\n",
    "\n",
    "            spline = CubicSpline(centers, amps, extrapolate = False)\n",
    "\n",
    "        return spline\n",
    "\n",
    "\n",
    "    def compute_energy_sharing(self, root_path, spline, entry, pixel_pitch = 200):\n",
    "\n",
    "        '''\n",
    "        Returns a digitized form atar pixel data in dictionary form\n",
    "        '''\n",
    "\n",
    "        dest = os.getcwd() + '/digitized' + os.path.basename(root_path)\n",
    "\n",
    "        shutil.copy(root_path, dest)\n",
    "\n",
    "\n",
    "        \n",
    "\n",
    "        tree = {\n",
    "            'pixel_pdg':[],\n",
    "            'pixel_edep':[],\n",
    "            'pixel_time':[],\n",
    "            'pixel_hits':[]\n",
    "        }\n",
    "\n",
    "        \n",
    "\n",
    "        data = root_path['atar'].arrays(['pixel_pdg', 'pixel_edep', 'pixel_time', 'pixel_hits'])\n",
    "        pdg = data['pixel_pdg'][entry]\n",
    "        edep = data['pixel_edep'][entry]\n",
    "        time = data['pixel_time'][entry]\n",
    "        hits = data['pixel_hits'][entry]\n",
    "\n",
    "     \n",
    "            \n",
    "        for i, hiti in enumerate(hits):\n",
    "            #Loop over all hits and calculate energy sharing\n",
    "\n",
    "            these_energies = []\n",
    "                    \n",
    "            for j, pos in enumerate(self.get_adjacent_strips(hiti)):\n",
    "                energy_position = (pos - hiti) * pixel_pitch\n",
    "                energyi = spline(energy_position)*edep[i]\n",
    "                these_energies.append(energyi)\n",
    "            \n",
    "            #Normalize the energies to conserve energy\n",
    "            these_energies = np.array(these_energies) * (edep[i]/np.sum(these_energies))\n",
    "\n",
    "            # print(\"total Energy\", np.sum(these_energies), edep[i])\n",
    "\n",
    "            output['pixel_edep'] += list(these_energies)\n",
    "            output['pixel_hits'] += self.get_adjacent_strips(hiti)\n",
    "            output['pixel_time'] += list(np.full_like(these_energies, time[i]))\n",
    "            output['pixel_pdg'] += list(np.full_like(these_energies, pdg[i], dtype=int))\n",
    "\n",
    "\n",
    "        with uproot.update(dest) as f:\n",
    "            f['digitizedatar'] = tree\n",
    "            \n",
    "\n"
   ]
  },
  {
   "cell_type": "code",
   "execution_count": 8,
   "metadata": {},
   "outputs": [
    {
     "data": {
      "image/png": "[encoded data removed]",
      "text/plain": [
       "<Figure size 432x288 with 1 Axes>"
      ]
     },
     "metadata": {
      "needs_background": "light"
     },
     "output_type": "display_data"
    }
   ],
   "source": [
    "from energy_sharingv2 import new_digitizeatar\n",
    "\n",
    "path_to_hist = \"./BNL_Signal_Response.root\"\n",
    "\n",
    "root_path = '/home/dylan/pioneer/simulationdata/pienux_out_stripped.root'\n",
    "\n",
    "\n",
    "class_version = new_digitizeatar(path_to_hist, pixel_pitch= 50)\n",
    "\n",
    "spline = class_version.build_spline()\n",
    "f = uproot.open(path_to_hist)\n",
    "h = f['pmax_histogram'].to_hist()\n",
    "out = class_version.build_spline()\n",
    "xs = np.linspace(h.axes[0].centers[0], h.axes[0].centers[-1], 1000)\n",
    "ys = class_version.build_spline()(xs)\n",
    "fig, ax = plt.subplots()\n",
    "plt.plot(xs, ys)\n",
    "\n",
    "class_version.compute_energy_sharing(root_path, spline, entry = 0)\n",
    "\n",
    "\n"
   ]
  },
  {
   "cell_type": "code",
   "execution_count": 35,
   "metadata": {},
   "outputs": [
    {
     "name": "stdout",
     "output_type": "stream",
     "text": [
      "['init;1', 'atar;1', 'calorimeter;1', 'sipm;1', 'hit_location_outer_surface;1', 'calo_outer_surface;1', 'degrader;1', 'beampipe;1', 'decay;1', 'digitizedatar;1']\n"
     ]
    }
   ],
   "source": [
    "shared = '/home/dylan/pioneer/atar_waveform/dylansversion/digitizedpienux_out_stripped.root'\n",
    "\n",
    "with uproot.open(shared) as f:\n",
    "    print(f.keys())"
   ]
  },
  {
   "cell_type": "code",
   "execution_count": 7,
   "metadata": {},
   "outputs": [
    {
     "data": {
      "image/png": "[encoded data removed]",
      "text/plain": [
       "<Figure size 1080x360 with 1 Axes>"
      ]
     },
     "metadata": {
      "needs_background": "light"
     },
     "output_type": "display_data"
    }
   ],
   "source": [
    "\n",
    "import awkward as ak\n",
    "\n",
    "atar = uproot.open('/home/dylan/pioneer/simulationdata/pienux_out_stripped.root:atar')\n",
    "\n",
    "shared = uproot.open('/home/dylan/pioneer/atar_waveform/dylansversion/digitizedpienux_out_stripped.root:digitized_atar')\n",
    "\n",
    "fig,ax = plt.subplots(figsize=(15,5))\n",
    "plt.plot(atar['pixel_time'].array()[0], atar['pixel_edep'].array()[0],\"o\", label='Non-Shared')\n",
    "plt.plot(shared['pixel_time'], shared['pixel_edep'],\".\", label='Shared')\n",
    "\n",
    "plt.grid()\n",
    "plt.legend()\n",
    "plt.show()"
   ]
  },
  {
   "cell_type": "code",
   "execution_count": 16,
   "metadata": {},
   "outputs": [
    {
     "name": "stdout",
     "output_type": "stream",
     "text": [
      "['pixel_pdg', 'pixel_edep', 'pixel_time', 'pixel_hits']\n",
      "4.803319554423562\n"
     ]
    }
   ],
   "source": [
    "modded_file = '/home/dylan/pioneer/atar_waveform/dylansversion/digitizedpienux_out_stripped.root'\n",
    "\n",
    "with uproot.open(modded_file) as f:\n",
    "    print(f['digitizedatar'].keys())\n",
    "    data = f['digitizedatar']['pixel_edep'].array()\n",
    "    print(sum(data))"
   ]
  },
  {
   "cell_type": "code",
   "execution_count": 15,
   "metadata": {},
   "outputs": [
    {
     "name": "stdout",
     "output_type": "stream",
     "text": [
      "actual data energy: 4.80331955442356 number of pixels hit: 72\n"
     ]
    }
   ],
   "source": [
    "atar_data = uproot.open('/home/dylan/pioneer/simulationdata/pienux_out_stripped.root:atar')\n",
    "\n",
    "\n",
    "actual_data = atar_data['pixel_edep'].array()\n",
    "print('actual data energy:', sum(actual_data[0]), 'number of pixels hit:', len(actual_data[0]))\n",
    "\n"
   ]
  },
  {
   "cell_type": "code",
   "execution_count": 10,
   "metadata": {},
   "outputs": [
    {
     "ename": "NameError",
     "evalue": "name 'modded_file' is not defined",
     "output_type": "error",
     "traceback": [
      "\u001b[0;31m---------------------------------------------------------------------------\u001b[0m",
      "\u001b[0;31mNameError\u001b[0m                                 Traceback (most recent call last)",
      "\u001b[1;32m/home/dylan/pioneer/atar_waveform/dylansversion/classenergysharingtesting.ipynb Cell 20'\u001b[0m in \u001b[0;36m<module>\u001b[0;34m\u001b[0m\n\u001b[1;32m      <a href='vscode-notebook-cell://wsl%2Bubuntu/home/dylan/pioneer/atar_waveform/dylansversion/classenergysharingtesting.ipynb#ch0000019vscode-remote?line=3'>4</a>\u001b[0m root_path \u001b[39m=\u001b[39m \u001b[39m'\u001b[39m\u001b[39m/home/dylan/pioneer/simulationdata/pienux_out_stripped.root\u001b[39m\u001b[39m'\u001b[39m\n\u001b[1;32m      <a href='vscode-notebook-cell://wsl%2Bubuntu/home/dylan/pioneer/atar_waveform/dylansversion/classenergysharingtesting.ipynb#ch0000019vscode-remote?line=4'>5</a>\u001b[0m r \u001b[39m=\u001b[39m uproot\u001b[39m.\u001b[39mopen(root_path)\n\u001b[0;32m----> <a href='vscode-notebook-cell://wsl%2Bubuntu/home/dylan/pioneer/atar_waveform/dylansversion/classenergysharingtesting.ipynb#ch0000019vscode-remote?line=5'>6</a>\u001b[0m \u001b[39mwith\u001b[39;00m uproot\u001b[39m.\u001b[39mupdate(modded_file) \u001b[39mas\u001b[39;00m f:\n\u001b[1;32m      <a href='vscode-notebook-cell://wsl%2Bubuntu/home/dylan/pioneer/atar_waveform/dylansversion/classenergysharingtesting.ipynb#ch0000019vscode-remote?line=6'>7</a>\u001b[0m     f\u001b[39m.\u001b[39mcopy_from(r, filter_name\u001b[39m=\u001b[39m\u001b[39m\"\u001b[39m\u001b[39m/atar/\u001b[39m\u001b[39m\"\u001b[39m, rename \u001b[39m=\u001b[39m \u001b[39m'\u001b[39m\u001b[39m/from/to\u001b[39m\u001b[39m'\u001b[39m)\n",
      "\u001b[0;31mNameError\u001b[0m: name 'modded_file' is not defined"
     ]
    }
   ],
   "source": [
    "#Cant copy tree objects yet\n",
    "\n",
    "modded_file.\n",
    "root_path = '/home/dylan/pioneer/simulationdata/pienux_out_stripped.root'\n",
    "r = uproot.open(root_path)\n",
    "with uproot.update(modded_file) as f:\n",
    "    f.copy_from(r, filter_name=\"/atar/\", rename = '/from/to')\n",
    "\n"
   ]
  },
  {
   "cell_type": "code",
   "execution_count": 9,
   "metadata": {},
   "outputs": [],
   "source": [
    "a = uproot.update('/home/dylan/pioneer/atar_waveform/dylansversion/digitizedpienux_out_stripped.root')\n",
    "a."
   ]
  },
  {
   "cell_type": "code",
   "execution_count": null,
   "metadata": {},
   "outputs": [],
   "source": []
  }
 ],
 "metadata": {
  "interpreter": {
   "hash": "d23b0352e553b5748113da9a07b5ed2f45837347ee467a96cbff33c6f1e840ca"
  },
  "kernelspec": {
   "display_name": "Python 3.9.5 ('base')",
   "language": "python",
   "name": "python3"
  },
  "language_info": {
   "codemirror_mode": {
    "name": "ipython",
    "version": 3
   },
   "file_extension": ".py",
   "mimetype": "text/x-python",
   "name": "python",
   "nbconvert_exporter": "python",
   "pygments_lexer": "ipython3",
   "version": "3.9.5"
  },
  "orig_nbformat": 4
 },
 "nbformat": 4,
 "nbformat_minor": 2
}
