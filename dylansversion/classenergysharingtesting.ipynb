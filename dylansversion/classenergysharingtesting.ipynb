{
 "cells": [
  {
   "cell_type": "code",
   "execution_count": 123,
   "metadata": {},
   "outputs": [],
   "source": [
    "import uproot\n",
    "import matplotlib.pyplot as plt\n",
    "import numpy as np\n",
    "import hist as Hist\n",
    "import awkward as ak"
   ]
  },
  {
   "cell_type": "code",
   "execution_count": 23,
   "metadata": {},
   "outputs": [],
   "source": [
    "def get_adjacent_strips(pixel, pixels_per_plane = 200, n = 2):\n",
    "    '''\n",
    "    Returns n adjacent strips within the same plane from a given strip (pixel). \n",
    "    N is determined by the spline width and can be adjusted as necessary. \n",
    "    Assumed pixel pitch of 200 microns and a spline width of 600 microns.\n",
    "    '''\n",
    "    return [(pixel + x) for x in range(-n, n+1) if np.ceil(float((pixel + x)/pixels_per_plane)) == np.ceil(float(pixel/pixels_per_plane))]"
   ]
  },
  {
   "cell_type": "code",
   "execution_count": null,
   "metadata": {},
   "outputs": [],
   "source": [
    "n = 2\n",
    "pixel = 100\n",
    "[(pixel + x) for x in range(-n, n+1)]"
   ]
  },
  {
   "cell_type": "code",
   "execution_count": null,
   "metadata": {},
   "outputs": [],
   "source": [
    "get_adjacent_strips(199)"
   ]
  },
  {
   "cell_type": "code",
   "execution_count": null,
   "metadata": {},
   "outputs": [],
   "source": [
    "#Seeing the file for the histogram\n",
    "\n",
    "with uproot.open('./BNL_Signal_Response.root') as infile:\n",
    "    h = infile['pmax_histogram'].values()\n",
    "    bruh = [i for i in h]\n",
    "    print(bruh)\n",
    "\n",
    "\n",
    "\n"
   ]
  },
  {
   "cell_type": "code",
   "execution_count": null,
   "metadata": {},
   "outputs": [],
   "source": [
    "#Test of class\n",
    "\n",
    "import matplotlib.pyplot as plt\n",
    "import numpy as np\n",
    "import uproot  \n",
    "from energy_sharingv2 import digitizeatar\n",
    "\n",
    "path = \"./BNL_Signal_Response.root\"\n",
    "\n",
    "f = uproot.open(path)\n",
    "\n",
    "h = f['pmax_histogram'].to_hist()\n",
    "\n",
    "x = digitizeatar(path)\n",
    "\n",
    "out = x.build_spline()\n",
    "xs = np.linspace(h.axes[0].centers[0], h.axes[0].centers[-1], 1000)\n",
    "\n",
    "\n",
    "\n",
    "ys = x.build_spline()(xs)\n",
    "\n",
    "fig, ax = plt.subplots()\n",
    "\n",
    "plt.plot(xs, ys)"
   ]
  },
  {
   "cell_type": "code",
   "execution_count": 28,
   "metadata": {},
   "outputs": [],
   "source": [
    "#Build an algorithm for energy sharing\n",
    "infile = uproot.open('/home/dylan/pioneer/simulationdata/pienux_out_stripped.root:atar')\n",
    "data = infile.arrays(['pixel_pdg', 'pixel_edep', 'pixel_time', 'pixel_hits'])\n",
    "\n",
    "pdg = data['pixel_pdg']\n",
    "edep = data['pixel_edep']\n",
    "time = data['pixel_time']\n",
    "hits = data['pixel_hits']\n",
    "\n",
    "pixelpitch = 200\n",
    "\n",
    "\n",
    "energydata  = edep[0]\n",
    "hitdata = hits[0]\n",
    "\n",
    "def compute_energy_sharing_algorithm(data, spline, entry = None):  \n",
    "    for k in energydata:\n",
    "\n",
    "        for i, hit in enumerate(hitdata):\n",
    "\n",
    "            these_energies = []\n",
    "            \n",
    "            places = get_adjacent_strips(hitdata[i])\n",
    "\n",
    "            for pos in places:\n",
    "\n",
    "                pix_diff = hit - pos\n",
    "                energy_position = pix_diff * pixelpitch\n",
    "                energyi = spline(energy_position) * energydata[i]\n",
    "\n",
    "                these_energies.append(energyi)\n",
    "\n",
    "            these_energies = np.array(these_energies) * (energydata[i] * np.sum(these_energies))\n",
    "\n",
    "            \n",
    "\n",
    "\n",
    "from energy_sharingv2 import digitizeatar\n",
    "\n",
    "path = \"./BNL_Signal_Response.root\"\n",
    "\n",
    "x = digitizeatar(path)\n",
    "spline = x.build_spline()\n",
    "\n",
    "compute_energy_sharing_algorithm(energydata, spline)\n",
    "\n",
    "\n",
    "        "
   ]
  },
  {
   "cell_type": "code",
   "execution_count": 83,
   "metadata": {},
   "outputs": [
    {
     "ename": "AttributeError",
     "evalue": "module 'uproot' has no attribute 'newtree'",
     "output_type": "error",
     "traceback": [
      "\u001b[0;31m---------------------------------------------------------------------------\u001b[0m",
      "\u001b[0;31mAttributeError\u001b[0m                            Traceback (most recent call last)",
      "\u001b[1;32m/home/dylan/pioneer/atar_waveform/dylansversion/classenergysharingtesting.ipynb Cell 8'\u001b[0m in \u001b[0;36m<module>\u001b[0;34m\u001b[0m\n\u001b[1;32m      <a href='vscode-notebook-cell://wsl%2Bubuntu/home/dylan/pioneer/atar_waveform/dylansversion/classenergysharingtesting.ipynb#ch0000008vscode-remote?line=0'>1</a>\u001b[0m updated_infile \u001b[39m=\u001b[39m uproot\u001b[39m.\u001b[39mrecreate(\u001b[39m'\u001b[39m\u001b[39m/home/dylan/pioneer/simulationdata/pienux_out_stripped.root:atar\u001b[39m\u001b[39m'\u001b[39m)\n\u001b[0;32m----> <a href='vscode-notebook-cell://wsl%2Bubuntu/home/dylan/pioneer/atar_waveform/dylansversion/classenergysharingtesting.ipynb#ch0000008vscode-remote?line=2'>3</a>\u001b[0m updated_infile[\u001b[39m'\u001b[39m\u001b[39mtree\u001b[39m\u001b[39m'\u001b[39m] \u001b[39m=\u001b[39m uproot\u001b[39m.\u001b[39;49mnewtree({\u001b[39m'\u001b[39m\u001b[39mbranch1\u001b[39m\u001b[39m'\u001b[39m:\u001b[39mint\u001b[39m})\n\u001b[1;32m      <a href='vscode-notebook-cell://wsl%2Bubuntu/home/dylan/pioneer/atar_waveform/dylansversion/classenergysharingtesting.ipynb#ch0000008vscode-remote?line=3'>4</a>\u001b[0m updated_infile[\u001b[39m'\u001b[39m\u001b[39mtree\u001b[39m\u001b[39m'\u001b[39m]\u001b[39m.\u001b[39mextend({\u001b[39m'\u001b[39m\u001b[39mbranch1\u001b[39m\u001b[39m'\u001b[39m: np\u001b[39m.\u001b[39marray([\u001b[39m1\u001b[39m, \u001b[39m2\u001b[39m, \u001b[39m3\u001b[39m, \u001b[39m4\u001b[39m, \u001b[39m5\u001b[39m])})\n",
      "\u001b[0;31mAttributeError\u001b[0m: module 'uproot' has no attribute 'newtree'"
     ]
    }
   ],
   "source": [
    "updated_infile = uproot.recreate('/home/dylan/pioneer/simulationdata/pienux_out_stripped.root:atar')\n",
    "\n",
    "updated_infile['tree'] = uproot.newtree({'branch1':int})\n",
    "updated_infile['tree'].extend({'branch1': np.array([1, 2, 3, 4, 5])})\n",
    "\n"
   ]
  },
  {
   "cell_type": "code",
   "execution_count": 125,
   "metadata": {},
   "outputs": [
    {
     "ename": "TypeError",
     "evalue": "unrecognized type cannot be written to a ROOT file: dict",
     "output_type": "error",
     "traceback": [
      "\u001b[0;31m---------------------------------------------------------------------------\u001b[0m",
      "\u001b[0;31mTypeError\u001b[0m                                 Traceback (most recent call last)",
      "Input \u001b[0;32mIn [125]\u001b[0m, in \u001b[0;36m<module>\u001b[0;34m\u001b[0m\n\u001b[1;32m      3\u001b[0m \u001b[39mwith\u001b[39;00m uproot\u001b[39m.\u001b[39mupdate(\u001b[39m'\u001b[39m\u001b[39m./testfile.root\u001b[39m\u001b[39m'\u001b[39m) \u001b[39mas\u001b[39;00m testfile:\n\u001b[1;32m      4\u001b[0m     testfile[\u001b[39m'\u001b[39m\u001b[39mhist\u001b[39m\u001b[39m'\u001b[39m] \u001b[39m=\u001b[39m np\u001b[39m.\u001b[39mhistogram(np\u001b[39m.\u001b[39mrandom\u001b[39m.\u001b[39mnormal(\u001b[39m0\u001b[39m, \u001b[39m1\u001b[39m, \u001b[39m100000\u001b[39m))\n\u001b[0;32m----> 5\u001b[0m     testfile[\u001b[39m'\u001b[39m\u001b[39mtree\u001b[39m\u001b[39m'\u001b[39m] \u001b[39m=\u001b[39m {\u001b[39m'\u001b[39m\u001b[39mbranch\u001b[39m\u001b[39m'\u001b[39m:ak\u001b[39m.\u001b[39mArray}\n\u001b[1;32m      7\u001b[0m testfile\u001b[39m.\u001b[39mkeys()\n",
      "File \u001b[0;32m~/miniconda3/lib/python3.9/site-packages/uproot/writing/writable.py:967\u001b[0m, in \u001b[0;36mWritableDirectory.__setitem__\u001b[0;34m(self, where, what)\u001b[0m\n\u001b[1;32m    <a href='file:///~/miniconda3/lib/python3.9/site-packages/uproot/writing/writable.py?line=964'>965</a>\u001b[0m \u001b[39mif\u001b[39;00m \u001b[39mself\u001b[39m\u001b[39m.\u001b[39m_file\u001b[39m.\u001b[39msink\u001b[39m.\u001b[39mclosed:\n\u001b[1;32m    <a href='file:///~/miniconda3/lib/python3.9/site-packages/uproot/writing/writable.py?line=965'>966</a>\u001b[0m     \u001b[39mraise\u001b[39;00m \u001b[39mValueError\u001b[39;00m(\u001b[39m\"\u001b[39m\u001b[39mcannot write data to a closed file\u001b[39m\u001b[39m\"\u001b[39m)\n\u001b[0;32m--> <a href='file:///~/miniconda3/lib/python3.9/site-packages/uproot/writing/writable.py?line=966'>967</a>\u001b[0m \u001b[39mself\u001b[39;49m\u001b[39m.\u001b[39;49mupdate({where: what})\n",
      "File \u001b[0;32m~/miniconda3/lib/python3.9/site-packages/uproot/writing/writable.py:1468\u001b[0m, in \u001b[0;36mWritableDirectory.update\u001b[0;34m(self, pairs, **more_pairs)\u001b[0m\n\u001b[1;32m   <a href='file:///~/miniconda3/lib/python3.9/site-packages/uproot/writing/writable.py?line=1464'>1465</a>\u001b[0m     \u001b[39mfor\u001b[39;00m item \u001b[39min\u001b[39;00m path:\n\u001b[1;32m   <a href='file:///~/miniconda3/lib/python3.9/site-packages/uproot/writing/writable.py?line=1465'>1466</a>\u001b[0m         directory \u001b[39m=\u001b[39m directory[item]\n\u001b[0;32m-> <a href='file:///~/miniconda3/lib/python3.9/site-packages/uproot/writing/writable.py?line=1467'>1468</a>\u001b[0m     uproot\u001b[39m.\u001b[39;49mwriting\u001b[39m.\u001b[39;49midentify\u001b[39m.\u001b[39;49madd_to_directory(v, name, directory, streamers)\n\u001b[1;32m   <a href='file:///~/miniconda3/lib/python3.9/site-packages/uproot/writing/writable.py?line=1469'>1470</a>\u001b[0m \u001b[39mself\u001b[39m\u001b[39m.\u001b[39m_file\u001b[39m.\u001b[39m_cascading\u001b[39m.\u001b[39mstreamers\u001b[39m.\u001b[39mupdate_streamers(\u001b[39mself\u001b[39m\u001b[39m.\u001b[39m_file\u001b[39m.\u001b[39msink, streamers)\n",
      "File \u001b[0;32m~/miniconda3/lib/python3.9/site-packages/uproot/writing/identify.py:153\u001b[0m, in \u001b[0;36madd_to_directory\u001b[0;34m(obj, name, directory, streamers)\u001b[0m\n\u001b[1;32m    <a href='file:///~/miniconda3/lib/python3.9/site-packages/uproot/writing/identify.py?line=149'>150</a>\u001b[0m     tree\u001b[39m.\u001b[39mextend(data)\n\u001b[1;32m    <a href='file:///~/miniconda3/lib/python3.9/site-packages/uproot/writing/identify.py?line=151'>152</a>\u001b[0m \u001b[39melse\u001b[39;00m:\n\u001b[0;32m--> <a href='file:///~/miniconda3/lib/python3.9/site-packages/uproot/writing/identify.py?line=152'>153</a>\u001b[0m     writable \u001b[39m=\u001b[39m to_writable(obj)\n\u001b[1;32m    <a href='file:///~/miniconda3/lib/python3.9/site-packages/uproot/writing/identify.py?line=154'>155</a>\u001b[0m     \u001b[39mfor\u001b[39;00m rawstreamer \u001b[39min\u001b[39;00m writable\u001b[39m.\u001b[39mclass_rawstreamers:\n\u001b[1;32m    <a href='file:///~/miniconda3/lib/python3.9/site-packages/uproot/writing/identify.py?line=155'>156</a>\u001b[0m         \u001b[39mif\u001b[39;00m \u001b[39misinstance\u001b[39m(rawstreamer, \u001b[39mtuple\u001b[39m):\n",
      "File \u001b[0;32m~/miniconda3/lib/python3.9/site-packages/uproot/writing/identify.py:636\u001b[0m, in \u001b[0;36mto_writable\u001b[0;34m(obj)\u001b[0m\n\u001b[1;32m    <a href='file:///~/miniconda3/lib/python3.9/site-packages/uproot/writing/identify.py?line=591'>592</a>\u001b[0m         \u001b[39mreturn\u001b[39;00m to_TH3x(\n\u001b[1;32m    <a href='file:///~/miniconda3/lib/python3.9/site-packages/uproot/writing/identify.py?line=592'>593</a>\u001b[0m             fName\u001b[39m=\u001b[39m\u001b[39mNone\u001b[39;00m,\n\u001b[1;32m    <a href='file:///~/miniconda3/lib/python3.9/site-packages/uproot/writing/identify.py?line=593'>594</a>\u001b[0m             fTitle\u001b[39m=\u001b[39mtitle,\n\u001b[0;32m   (...)\u001b[0m\n\u001b[1;32m    <a href='file:///~/miniconda3/lib/python3.9/site-packages/uproot/writing/identify.py?line=631'>632</a>\u001b[0m             ),\n\u001b[1;32m    <a href='file:///~/miniconda3/lib/python3.9/site-packages/uproot/writing/identify.py?line=632'>633</a>\u001b[0m         )\n\u001b[1;32m    <a href='file:///~/miniconda3/lib/python3.9/site-packages/uproot/writing/identify.py?line=634'>635</a>\u001b[0m \u001b[39melse\u001b[39;00m:\n\u001b[0;32m--> <a href='file:///~/miniconda3/lib/python3.9/site-packages/uproot/writing/identify.py?line=635'>636</a>\u001b[0m     \u001b[39mraise\u001b[39;00m \u001b[39mTypeError\u001b[39;00m(\n\u001b[1;32m    <a href='file:///~/miniconda3/lib/python3.9/site-packages/uproot/writing/identify.py?line=636'>637</a>\u001b[0m         \u001b[39m\"\u001b[39m\u001b[39munrecognized type cannot be written to a ROOT file: \u001b[39m\u001b[39m\"\u001b[39m \u001b[39m+\u001b[39m \u001b[39mtype\u001b[39m(obj)\u001b[39m.\u001b[39m\u001b[39m__name__\u001b[39m\n\u001b[1;32m    <a href='file:///~/miniconda3/lib/python3.9/site-packages/uproot/writing/identify.py?line=637'>638</a>\u001b[0m     )\n",
      "\u001b[0;31mTypeError\u001b[0m: unrecognized type cannot be written to a ROOT file: dict"
     ]
    }
   ],
   "source": [
    "# createdfile = uproot.create('./testfile.root')\n",
    "\n",
    "with uproot.update('./testfile.root') as testfile:\n",
    "    testfile['hist'] = np.histogram(np.random.normal(0, 1, 100000))\n",
    "    testfile['tree'] = {'branch':ak.Array}\n",
    "\n",
    "testfile.keys()\n"
   ]
  },
  {
   "cell_type": "code",
   "execution_count": 126,
   "metadata": {},
   "outputs": [
    {
     "name": "stdout",
     "output_type": "stream",
     "text": [
      "<TH1D (version 3) at 0x7f8e85116e20>\n"
     ]
    }
   ],
   "source": [
    "with uproot.open('./testfile.root') as f:\n",
    "    h = f[\"hist\"]\n",
    "    print(h)\n",
    "    \n"
   ]
  },
  {
   "cell_type": "code",
   "execution_count": 151,
   "metadata": {},
   "outputs": [
    {
     "name": "stdout",
     "output_type": "stream",
     "text": [
      "['data;1', 'data;2']\n"
     ]
    }
   ],
   "source": [
    "with uproot.recreate('./testfile.root') as f:\n",
    "    f.mkdir('data')\n",
    "    f['data'] = {'branch': ak.Array([1, 2, 3])}\n",
    "\n",
    "    print(f.keys())\n",
    "  \n"
   ]
  },
  {
   "cell_type": "code",
   "execution_count": 148,
   "metadata": {},
   "outputs": [
    {
     "data": {
      "text/plain": [
       "['data;1', 'data;2']"
      ]
     },
     "execution_count": 148,
     "metadata": {},
     "output_type": "execute_result"
    }
   ],
   "source": [
    "infile = uproot.open('./testfile.root')\n",
    "infile.keys()"
   ]
  },
  {
   "cell_type": "code",
   "execution_count": 158,
   "metadata": {},
   "outputs": [
    {
     "data": {
      "text/plain": [
       "<Array [1, 2, 3] type='3 * int64'>"
      ]
     },
     "execution_count": 158,
     "metadata": {},
     "output_type": "execute_result"
    }
   ],
   "source": [
    "tfile = uproot.open('./testfile.root')\n",
    "tfile['data']['branch'].array()"
   ]
  },
  {
   "cell_type": "code",
   "execution_count": 118,
   "metadata": {},
   "outputs": [
    {
     "name": "stdout",
     "output_type": "stream",
     "text": [
      "name                 | typename                 | interpretation                \n",
      "---------------------+--------------------------+-------------------------------\n",
      "pixel_hits           | std::vector<int32_t>     | AsJagged(AsDtype('>i4'), he...\n",
      "pixel_pdg            | std::vector<int32_t>     | AsJagged(AsDtype('>i4'), he...\n",
      "pixel_edep           | std::vector<double>      | AsJagged(AsDtype('>f8'), he...\n",
      "pixel_time           | std::vector<double>      | AsJagged(AsDtype('>f8'), he...\n",
      "nhit                 | int32_t                  | AsDtype('>i4')\n",
      "has_pion             | bool                     | AsDtype('bool')\n",
      "pion_decay           | bool                     | AsDtype('bool')\n",
      "pion_dar             | bool                     | AsDtype('bool')\n",
      "has_muon             | bool                     | AsDtype('bool')\n",
      "muon_decay           | bool                     | AsDtype('bool')\n",
      "muon_dar             | bool                     | AsDtype('bool')\n",
      "has_positron         | bool                     | AsDtype('bool')\n",
      "pion_total_edep      | double                   | AsDtype('>f8')\n",
      "muon_total_edep      | double                   | AsDtype('>f8')\n",
      "pos_total_edep       | double                   | AsDtype('>f8')\n",
      "has_excited_nucleus  | bool                     | AsDtype('bool')\n",
      "external_total_edep  | double                   | AsDtype('>f8')\n"
     ]
    }
   ],
   "source": [
    "tfile = uproot.open('/home/dylan/pioneer/simulationdata/pienux_out_stripped.root:atar')\n",
    "tfile.show()"
   ]
  },
  {
   "cell_type": "code",
   "execution_count": 159,
   "metadata": {},
   "outputs": [],
   "source": [
    "#Build an algorithm for energy sharing\n",
    "infile = uproot.open('/home/dylan/pioneer/simulationdata/pienux_out_stripped.root:atar')\n",
    "data = infile.arrays(['pixel_pdg', 'pixel_edep', 'pixel_time', 'pixel_hits'])\n",
    "\n",
    "pdg = data['pixel_pdg']\n",
    "edep = data['pixel_edep']\n",
    "time = data['pixel_time']\n",
    "hits = data['pixel_hits']\n",
    "\n",
    "pixelpitch = 200\n",
    "\n",
    "\n",
    "energydata  = edep[0]\n",
    "hitdata = hits[0]\n",
    "\n",
    "def compute_energy_sharing_algorithm(data, spline, entry = None): \n",
    "\n",
    "    output = {\"pdg\":}\n",
    "\n",
    "    for k in energydata:\n",
    "\n",
    "        for i, hit in enumerate(hitdata):\n",
    "\n",
    "            these_energies = []\n",
    "            \n",
    "            places = get_adjacent_strips(hitdata[i])\n",
    "\n",
    "            for pos in places:\n",
    "\n",
    "                pix_diff = hit - pos\n",
    "                energy_position = pix_diff * pixelpitch\n",
    "                energyi = spline(energy_position) * energydata[i]\n",
    "\n",
    "                these_energies.append(energyi)\n",
    "\n",
    "            these_energies = np.array(these_energies) * (energydata[i] * np.sum(these_energies))\n",
    "\n",
    "    with uproot.recreate('/home/dylan/pioneer/simulationdata/pienux_out_stripped.root:atar') as f:\n",
    "        \n",
    "\n",
    "            \n",
    "\n",
    "\n",
    "from energy_sharingv2 import digitizeatar\n",
    "\n",
    "path = \"./BNL_Signal_Response.root\"\n",
    "\n",
    "x = digitizeatar(path)\n",
    "spline = x.build_spline()\n",
    "\n",
    "compute_energy_sharing_algorithm(energydata, spline)\n",
    "\n",
    "\n",
    "        "
   ]
  },
  {
   "cell_type": "code",
   "execution_count": 180,
   "metadata": {},
   "outputs": [
    {
     "ename": "ValueError",
     "evalue": "only integers, slices (`:`), ellipsis (`...`), numpy.newaxis (`None`), and integer or boolean arrays (possibly jagged) are valid indices\n\n(https://github.com/scikit-hep/awkward-1.0/blob/1.7.0/src/python/content.cpp#L694)",
     "output_type": "error",
     "traceback": [
      "\u001b[0;31m---------------------------------------------------------------------------\u001b[0m",
      "\u001b[0;31mValueError\u001b[0m                                Traceback (most recent call last)",
      "Input \u001b[0;32mIn [180]\u001b[0m, in \u001b[0;36m<module>\u001b[0;34m\u001b[0m\n\u001b[1;32m      7\u001b[0m spline \u001b[39m=\u001b[39m x\u001b[39m.\u001b[39mbuild_spline()\n\u001b[1;32m     10\u001b[0m atar_data \u001b[39m=\u001b[39m uproot\u001b[39m.\u001b[39mopen(\u001b[39m'\u001b[39m\u001b[39m/home/dylan/pioneer/simulationdata/pienux_out_stripped.root:atar\u001b[39m\u001b[39m'\u001b[39m)\n\u001b[0;32m---> 11\u001b[0m x\u001b[39m.\u001b[39;49mcompute_energy_sharing(atar_data, spline, \u001b[39m0\u001b[39;49m)\n",
      "File \u001b[0;32m~/pioneer/atar_waveform/dylansversion/energy_sharingv2.py:76\u001b[0m, in \u001b[0;36mcompute_energy_sharing\u001b[0;34m(self, atar, entry, spline, pitch, splinewidth)\u001b[0m\n",
      "File \u001b[0;32m~/miniconda3/lib/python3.9/site-packages/awkward/highlevel.py:997\u001b[0m, in \u001b[0;36mArray.__getitem__\u001b[0;34m(self, where)\u001b[0m\n\u001b[1;32m    <a href='file:///~/miniconda3/lib/python3.9/site-packages/awkward/highlevel.py?line=584'>585</a>\u001b[0m \u001b[39m\"\"\"\u001b[39;00m\n\u001b[1;32m    <a href='file:///~/miniconda3/lib/python3.9/site-packages/awkward/highlevel.py?line=585'>586</a>\u001b[0m \u001b[39mArgs:\u001b[39;00m\n\u001b[1;32m    <a href='file:///~/miniconda3/lib/python3.9/site-packages/awkward/highlevel.py?line=586'>587</a>\u001b[0m \u001b[39m    where (many types supported; see below): Index of positions to\u001b[39;00m\n\u001b[0;32m   (...)\u001b[0m\n\u001b[1;32m    <a href='file:///~/miniconda3/lib/python3.9/site-packages/awkward/highlevel.py?line=993'>994</a>\u001b[0m \u001b[39mhave the same dimension as the array being indexed.\u001b[39;00m\n\u001b[1;32m    <a href='file:///~/miniconda3/lib/python3.9/site-packages/awkward/highlevel.py?line=994'>995</a>\u001b[0m \u001b[39m\"\"\"\u001b[39;00m\n\u001b[1;32m    <a href='file:///~/miniconda3/lib/python3.9/site-packages/awkward/highlevel.py?line=995'>996</a>\u001b[0m \u001b[39mif\u001b[39;00m \u001b[39mnot\u001b[39;00m \u001b[39mhasattr\u001b[39m(\u001b[39mself\u001b[39m, \u001b[39m\"\u001b[39m\u001b[39m_tracers\u001b[39m\u001b[39m\"\u001b[39m):\n\u001b[0;32m--> <a href='file:///~/miniconda3/lib/python3.9/site-packages/awkward/highlevel.py?line=996'>997</a>\u001b[0m     tmp \u001b[39m=\u001b[39m ak\u001b[39m.\u001b[39m_util\u001b[39m.\u001b[39mwrap(\u001b[39mself\u001b[39;49m\u001b[39m.\u001b[39;49mlayout[where], \u001b[39mself\u001b[39m\u001b[39m.\u001b[39m_behavior)\n\u001b[1;32m    <a href='file:///~/miniconda3/lib/python3.9/site-packages/awkward/highlevel.py?line=997'>998</a>\u001b[0m \u001b[39melse\u001b[39;00m:\n\u001b[1;32m    <a href='file:///~/miniconda3/lib/python3.9/site-packages/awkward/highlevel.py?line=998'>999</a>\u001b[0m     tmp \u001b[39m=\u001b[39m ak\u001b[39m.\u001b[39m_connect\u001b[39m.\u001b[39m_jax\u001b[39m.\u001b[39mjax_utils\u001b[39m.\u001b[39m_jaxtracers_getitem(\u001b[39mself\u001b[39m, where)\n",
      "\u001b[0;31mValueError\u001b[0m: only integers, slices (`:`), ellipsis (`...`), numpy.newaxis (`None`), and integer or boolean arrays (possibly jagged) are valid indices\n\n(https://github.com/scikit-hep/awkward-1.0/blob/1.7.0/src/python/content.cpp#L694)"
     ]
    }
   ],
   "source": [
    "from energy_sharingv2 import digitizeatar\n",
    "\n",
    "path = \"./BNL_Signal_Response.root\"\n",
    "\n",
    "x = digitizeatar(path)\n",
    "\n",
    "spline = x.build_spline()\n",
    "\n",
    "\n",
    "atar_data = uproot.open('/home/dylan/pioneer/simulationdata/pienux_out_stripped.root:atar')\n",
    "x.compute_energy_sharing(atar_data, spline, 0)"
   ]
  },
  {
   "cell_type": "code",
   "execution_count": null,
   "metadata": {},
   "outputs": [],
   "source": []
  }
 ],
 "metadata": {
  "interpreter": {
   "hash": "d23b0352e553b5748113da9a07b5ed2f45837347ee467a96cbff33c6f1e840ca"
  },
  "kernelspec": {
   "display_name": "Python 3.9.5 ('base')",
   "language": "python",
   "name": "python3"
  },
  "language_info": {
   "codemirror_mode": {
    "name": "ipython",
    "version": 3
   },
   "file_extension": ".py",
   "mimetype": "text/x-python",
   "name": "python",
   "nbconvert_exporter": "python",
   "pygments_lexer": "ipython3",
   "version": "3.9.5"
  },
  "orig_nbformat": 4
 },
 "nbformat": 4,
 "nbformat_minor": 2
}
