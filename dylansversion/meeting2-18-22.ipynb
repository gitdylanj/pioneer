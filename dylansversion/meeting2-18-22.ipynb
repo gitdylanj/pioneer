{
 "cells": [
  {
   "cell_type": "code",
   "execution_count": 9,
   "metadata": {},
   "outputs": [],
   "source": [
    "import uproot\n",
    "import matplotlib.pyplot as plt\n",
    "import numpy as np\n",
    "import hist as Hist"
   ]
  },
  {
   "cell_type": "code",
   "execution_count": 10,
   "metadata": {},
   "outputs": [],
   "source": [
    "def get_number_of_slits(spline_width, pitch, pixels_per_plane):\n",
    "\n",
    "    '''\n",
    "        Based on slit parameters, returns how many other slits an energy \n",
    "        deposit hit can share with on one side assuming the original hit was in\n",
    "        center. \n",
    "    '''\n",
    "\n",
    "    a = spline_width - ((pixels_per_plane/2) + pitch)\n",
    "    b = pixels_per_plane + pitch\n",
    "\n",
    "    return int(np.floor((a/b) + 1))"
   ]
  },
  {
   "cell_type": "code",
   "execution_count": 11,
   "metadata": {},
   "outputs": [],
   "source": [
    "def adjacent_slits(pixel, n, pitch = 200, width = 100):\n",
    "    '''\n",
    "        Returns the pixel positions of adjacent slits out to n on either side of original\n",
    "        slit. There is edge case control in this code that may need to be optimized. \n",
    "    '''\n",
    "    slits = []\n",
    "    for i in range(-n, n + 1):\n",
    "        if abs(i) < n:\n",
    "            slits.append(pixel + int(i * (pitch + width)))\n",
    "        elif i < 0:\n",
    "                slits.append(pixel + int((i + 1) * (pitch + width) - (pitch + width/2)))\n",
    "        else:\n",
    "            slits.append(pixel + int((i - 1) * (pitch + width) + (pitch + width/2)))  \n",
    "                  \n",
    "    return slits"
   ]
  },
  {
   "cell_type": "code",
   "execution_count": 12,
   "metadata": {},
   "outputs": [],
   "source": [
    "def build_spline(hist):\n",
    "    '''\n",
    "        Builds a cubic spline to interpolate the energy sharing\n",
    "        distribution histogram\n",
    "    '''\n",
    "    from scipy.interpolate import UnivariateSpline, CubicSpline\n",
    "    \n",
    "    centers = hist.axes[0].centers\n",
    "\n",
    "    amps = hist.values()/np.amax(hist.values())\n",
    "\n",
    "    spline = CubicSpline(centers, amps, extrapolate = False)\n",
    "\n",
    "    return spline"
   ]
  },
  {
   "cell_type": "code",
   "execution_count": 13,
   "metadata": {},
   "outputs": [],
   "source": [
    "ref_data = './BNL_Signal_Response.root'\n",
    "\n",
    "f = uproot.open(ref_data)\n",
    "\n",
    "h = f['pmax_histogram'].to_hist()\n",
    "\n",
    "defaultspline = build_spline(h)"
   ]
  },
  {
   "cell_type": "code",
   "execution_count": 14,
   "metadata": {},
   "outputs": [],
   "source": [
    "def compute_energy_sharing(atar, entry, spline = defaultspline, pixels_per_plane = 100, pitch = 200, splinewidth = 600):\n",
    "\n",
    "    '''\n",
    "    Returns a digitized form atar pixel data in dictionary form\n",
    "    '''\n",
    "\n",
    "    output = {\n",
    "        'pixel_pdg':[],\n",
    "        'pixel_edep':[],\n",
    "        'pixel_time':[],\n",
    "        'pixel_hits':[]\n",
    "    }\n",
    "\n",
    "\n",
    "    data = atar.arrays(['pixel_pdg', 'pixel_edep', 'pixel_time', 'pixel_hits'])\n",
    "    pdg = data['pixel_pdg'][entry]\n",
    "    edep = data['pixel_edep'][entry]\n",
    "    time = data['pixel_time'][entry]\n",
    "    hits = data['pixel_hits'][entry]\n",
    "\n",
    " \n",
    "        \n",
    "    for i, hit in enumerate(hits):\n",
    "        #Loop over all hits and calculate energy sharing\n",
    "\n",
    "        these_energies = []\n",
    "\n",
    "        places = adjacent_slits(hit, n = 2)\n",
    "                \n",
    "        for pos in places:\n",
    "            energyi = spline(pos - hit) * edep[i]\n",
    "            these_energies.append(energyi)\n",
    "        \n",
    "        #Normalize the energies to conserve energy\n",
    "        these_energies = np.array(these_energies) * (edep[i]/np.sum(these_energies))\n",
    "\n",
    "        # print(\"total Energy\", np.sum(these_energies), edep[i])\n",
    "\n",
    "        output['pixel_edep'] += list(these_energies)\n",
    "        output['pixel_hits'] += adjacent_slits(hit, n = 2)\n",
    "        output['pixel_time'] += list(np.full_like(these_energies, time[i]))\n",
    "        output['pixel_pdg'] += list(np.full_like(these_energies, pdg[i], dtype=int))\n",
    "\n",
    "    return output"
   ]
  },
  {
   "cell_type": "code",
   "execution_count": 15,
   "metadata": {},
   "outputs": [],
   "source": [
    "def compute_energy_sharing_all(atar, spline = defaultspline, pixels_per_plane = 100, pitch = 200, splinewidth = 600):\n",
    "\n",
    "    '''\n",
    "    Returns a digitized form of all atar pixel data in dictionary form\n",
    "    '''\n",
    "\n",
    "    output = {\n",
    "        'pixel_pdg':[],\n",
    "        'pixel_edep':[],\n",
    "        'pixel_time':[],\n",
    "        'pixel_hits':[]\n",
    "    }\n",
    "\n",
    "\n",
    "\n",
    "    #This will go through the entire atar data collection and return a dict of lists for each\n",
    "    for v in range(len(atar['pixel_edep'].array())):  \n",
    "\n",
    "        data = atar.arrays(['pixel_pdg', 'pixel_edep', 'pixel_time', 'pixel_hits'])\n",
    "        pdg = data['pixel_pdg'][v]\n",
    "        edep = data['pixel_edep'][v]\n",
    "        time = data['pixel_time'][v]\n",
    "        hits = data['pixel_hits'][v]\n",
    "\n",
    "        pdglist = []\n",
    "        edeplist = []\n",
    "        timelist = []\n",
    "        hitslist = []\n",
    "\n",
    "        for i, hit in enumerate(hits):\n",
    "            #Loop over all hits and calculate energy sharing\n",
    "\n",
    "            these_energies = []\n",
    "\n",
    "            places = adjacent_slits(hit, n = 2)\n",
    "                    \n",
    "            for pos in places:\n",
    "                energyi = spline(pos - hit) * edep[i]\n",
    "                these_energies.append(energyi)\n",
    "            \n",
    "            #Normalize the energies to conserve energy\n",
    "            these_energies = np.array(these_energies) * (edep[i]/np.sum(these_energies))\n",
    "\n",
    "            # print(\"total Energy\", np.sum(these_energies), edep[i])\n",
    "\n",
    "            pdglist += list(np.full_like(these_energies, pdg[i], dtype=int))\n",
    "            edeplist += list(these_energies)\n",
    "            timelist += list(np.full_like(these_energies, time[i]))\n",
    "            hitslist += adjacent_slits(hit, n = 2)\n",
    "\n",
    "        output['pixel_pdg'].append(pdglist)\n",
    "        output['pixel_edep'].append(edeplist) \n",
    "        output['pixel_time'].append(timelist)\n",
    "        output['pixel_hits'].append(hitslist)\n",
    "\n",
    "    return output"
   ]
  },
  {
   "cell_type": "code",
   "execution_count": 17,
   "metadata": {},
   "outputs": [
    {
     "data": {
      "image/png": "[encoded data removed]",
      "text/plain": [
       "<Figure size 1080x360 with 1 Axes>"
      ]
     },
     "metadata": {
      "needs_background": "light"
     },
     "output_type": "display_data"
    }
   ],
   "source": [
    "# Here is what my algorithm computes for entry 0\n",
    "\n",
    "\n",
    "import awkward as ak\n",
    "\n",
    "atar = uproot.open('/home/dylan/pioneer/simulationdata/pienux_out_stripped.root:atar')\n",
    "\n",
    "output = compute_energy_sharing(atar, 0)\n",
    "\n",
    "fig,ax = plt.subplots(figsize=(15,5))\n",
    "plt.plot(atar['pixel_time'].array()[0], atar['pixel_edep'].array()[0],\"o\", label='Non-Shared')\n",
    "plt.plot(output['pixel_time'], output['pixel_edep'],\".\", label='Shared')\n",
    "\n",
    "plt.grid()\n",
    "plt.legend()\n",
    "plt.show()"
   ]
  },
  {
   "cell_type": "code",
   "execution_count": null,
   "metadata": {},
   "outputs": [],
   "source": []
  },
  {
   "cell_type": "code",
   "execution_count": null,
   "metadata": {},
   "outputs": [],
   "source": []
  }
 ],
 "metadata": {
  "interpreter": {
   "hash": "d23b0352e553b5748113da9a07b5ed2f45837347ee467a96cbff33c6f1e840ca"
  },
  "kernelspec": {
   "display_name": "Python 3.9.5 ('base')",
   "language": "python",
   "name": "python3"
  },
  "language_info": {
   "codemirror_mode": {
    "name": "ipython",
    "version": 3
   },
   "file_extension": ".py",
   "mimetype": "text/x-python",
   "name": "python",
   "nbconvert_exporter": "python",
   "pygments_lexer": "ipython3",
   "version": "3.9.5"
  },
  "orig_nbformat": 4
 },
 "nbformat": 4,
 "nbformat_minor": 2
}
