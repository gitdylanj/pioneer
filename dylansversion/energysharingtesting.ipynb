{
 "cells": [
  {
   "cell_type": "code",
   "execution_count": 188,
   "metadata": {},
   "outputs": [],
   "source": [
    "import uproot\n",
    "import matplotlib.pyplot as plt\n",
    "import numpy as np\n",
    "import hist as Hist"
   ]
  },
  {
   "cell_type": "code",
   "execution_count": 189,
   "metadata": {},
   "outputs": [
    {
     "name": "stdout",
     "output_type": "stream",
     "text": [
      "['pixel_hits', 'pixel_pdg', 'pixel_edep', 'pixel_time', 'nhit', 'has_pion', 'pion_decay', 'pion_dar', 'has_muon', 'muon_decay', 'muon_dar', 'has_positron', 'pion_total_edep', 'muon_total_edep', 'pos_total_edep', 'has_excited_nucleus', 'external_total_edep']\n",
      "[{pixel_hits: [102900, 102899, 102898, 102897, ... pixel_edep: [], pixel_time: []}]\n",
      "\n"
     ]
    }
   ],
   "source": [
    "#Working with atar data\n",
    "\n",
    "with uproot.open('/home/dylan/pioneer/simulationdata/pienux_out_stripped.root:atar') as testfile:\n",
    "    print(testfile.keys())\n",
    "    # print(testfile.arrays())\n",
    "    data = testfile.arrays(['pixel_hits', 'pixel_pdg', 'pixel_edep', 'pixel_time'])\n",
    "    print(data)\n",
    "    print()\n"
   ]
  },
  {
   "cell_type": "code",
   "execution_count": 190,
   "metadata": {},
   "outputs": [
    {
     "data": {
      "text/html": [
       "<html>\n",
       "<div style=\"display:flex; align-items:center;\">\n",
       "<div style=\"width:290px;\">\n",
       "<svg xmlns=\"http://www.w3.org/2000/svg\" viewBox=\"-10 -105 270 120\">\n",
       "<line x1=\"-5\" y1=\"0\" x2=\"255\" y2=\"0\" style=\"fill:none;stroke-width:2;stroke:currentColor\"/>\n",
       "<text text-anchor=\"middle\" x=\"0\" y=\"15\" style=\"fill:currentColor;\">\n",
       "0\n",
       "</text>\n",
       "<text text-anchor=\"middle\" x=\"250\" y=\"15\" style=\"fill:currentColor;\">\n",
       "100\n",
       "</text>\n",
       "<text text-anchor=\"middle\" x=\"125.0\" y=\"15\" style=\"fill:currentColor;\">\n",
       "Axis 0\n",
       "</text>\n",
       "<polyline points=\"  0,0   0,-0 2.5,-0 2.5,-100   5,-100   5,-0 7.5,-0 7.5,-100  10,-100  10,-0 12.5,-0 12.5,-100  15,-100  15,-0 17.5,-0 17.5,-100  20,-100  20,-0 22.5,-0 22.5,-100  25,-100  25,-0 27.5,-0 27.5,-100  30,-100  30,-0 32.5,-0 32.5,-100  35,-100  35,-0 37.5,-0 37.5,-100  40,-100  40,-0 42.5,-0 42.5,-100  45,-100  45,-0 47.5,-0 47.5,-100  50,-100  50,-0 52.5,-0 52.5,-100  55,-100  55,-0 57.5,-0 57.5,-100  60,-100  60,-0 62.5,-0 62.5,-100  65,-100  65,-0 67.5,-0 67.5,-100  70,-100  70,-0 72.5,-0 72.5,-100  75,-100  75,-0 77.5,-0 77.5,-100  80,-100  80,-0 82.5,-0 82.5,-100  85,-100  85,-0 87.5,-0 87.5,-100  90,-100  90,-0 92.5,-0 92.5,-100  95,-100  95,-0 97.5,-0 97.5,-100 100,-100 100,-0 102.5,-0 102.5,-100 105,-100 105,-0 107.5,-0 107.5,-100 110,-100 110,-0 112.5,-0 112.5,-100 115,-100 115,-0 117.5,-0 117.5,-100 120,-100 120,-0 122.5,-0 122.5,-100 125,-100 125,-0 127.5,-0 127.5,-100 130,-100 130,-0 132.5,-0 132.5,-100 135,-100 135,-0 137.5,-0 137.5,-100 140,-100 140,-0 142.5,-0 142.5,-100 145,-100 145,-0 147.5,-0 147.5,-100 150,-100 150,-0 152.5,-0 152.5,-100 155,-100 155,-0 157.5,-0 157.5,-100 160,-100 160,-0 162.5,-0 162.5,-100 165,-100 165,-0 167.5,-0 167.5,-100 170,-100 170,-0 172.5,-0 172.5,-100 175,-100 175,-0 177.5,-0 177.5,-100 180,-100 180,-0 182.5,-0 182.5,-100 185,-100 185,-0 187.5,-0 187.5,-100 190,-100 190,-0 192.5,-0 192.5,-100 195,-100 195,-0 197.5,-0 197.5,-100 200,-100 200,-0 202.5,-0 202.5,-100 205,-100 205,-0 207.5,-0 207.5,-100 210,-100 210,-0 212.5,-0 212.5,-100 215,-100 215,-0 217.5,-0 217.5,-100 220,-100 220,-0 222.5,-0 222.5,-100 225,-100 225,-0 227.5,-0 227.5,-100 230,-100 230,-0 232.5,-0 232.5,-100 235,-100 235,-0 237.5,-0 237.5,-100 240,-100 240,-0 242.5,-0 242.5,-100 245,-100 245,-0 247.5,-0 247.5,-0 250,-0 250,0\" style=\"fill:none; stroke:currentColor;\"/>\n",
       "</svg>\n",
       "</div>\n",
       "<div style=\"flex=grow:1;\">\n",
       "Regular(100, 0, 100, label='Axis 0')<br/>\n",
       "<hr style=\"margin-top:.2em; margin-bottom:.2em;\"/>\n",
       "Double() Σ=49.0 <em>(100.0 with flow)</em>\n",
       "\n",
       "</div>\n",
       "</div>\n",
       "</html>"
      ],
      "text/plain": [
       "Hist(Regular(100, 0, 100, label='Axis 0'), storage=Double()) # Sum: 49.0 (100.0 with flow)"
      ]
     },
     "execution_count": 190,
     "metadata": {},
     "output_type": "execute_result"
    }
   ],
   "source": [
    "data = np.random.normal(50, 10, 1000)\n",
    "\n",
    "data = np.linspace(-100, 100, 100)\n",
    "\n",
    "h = Hist.new.Reg(100, 0, 100).Double()\n",
    "\n",
    "h.fill(data)\n",
    "\n",
    "\n",
    "\n"
   ]
  },
  {
   "cell_type": "code",
   "execution_count": 191,
   "metadata": {},
   "outputs": [],
   "source": [
    "def build_spline(hist):\n",
    "    from scipy.interpolate import UnivariateSpline, CubicSpline\n",
    "    \n",
    "    centers = hist.axes[0].centers\n",
    "\n",
    "    amps = h.values()/np.amax(h.values())\n",
    "\n",
    "    spline = CubicSpline(centers, amps, extrapolate = False)\n",
    "\n",
    "    return spline\n",
    "\n"
   ]
  },
  {
   "cell_type": "code",
   "execution_count": 192,
   "metadata": {},
   "outputs": [
    {
     "data": {
      "image/png": "[encoded data removed]",
      "text/plain": [
       "<Figure size 432x288 with 1 Axes>"
      ]
     },
     "metadata": {
      "needs_background": "light"
     },
     "output_type": "display_data"
    }
   ],
   "source": [
    "xs = data\n",
    "ys = build_spline(h)(xs)\n",
    "\n",
    "#The notation above creates y value arrangement of same length as xs\n",
    "\n",
    "fig, ax = plt.subplots()\n",
    "\n",
    "plt.plot(xs, ys)\n",
    "\n",
    "plt.show()\n"
   ]
  },
  {
   "cell_type": "code",
   "execution_count": 193,
   "metadata": {},
   "outputs": [],
   "source": [
    "\n",
    "def adjacent_pixels(pixeli, n=2, pixels_per_plane=100, **kwargs):\n",
    "    '''\n",
    "        Returns this pixel and the n pixels on either side in the same plane\n",
    "    '''\n",
    "    return [x for x in range(pixeli-n, pixeli+n+1) if (int(np.ceil(float(x)/pixels_per_plane)) == int(np.ceil(float(pixeli)/pixels_per_plane)))]"
   ]
  },
  {
   "cell_type": "code",
   "execution_count": 194,
   "metadata": {},
   "outputs": [],
   "source": [
    "def adjacent_pixelsv2(pixel, n = 2):\n",
    "    '''\n",
    "        Returns this pixel and the n pixels on either side in the same plane. Why can't you write it like this instead of the one above?    \n",
    "    '''\n",
    "    \n",
    "    return [x for x in range(pixel - n, pixel + n + 1)]"
   ]
  },
  {
   "cell_type": "code",
   "execution_count": 195,
   "metadata": {},
   "outputs": [
    {
     "data": {
      "text/plain": [
       "[48, 49, 50, 51, 52]"
      ]
     },
     "execution_count": 195,
     "metadata": {},
     "output_type": "execute_result"
    }
   ],
   "source": [
    "adjacent_pixelsv2(50)"
   ]
  },
  {
   "cell_type": "code",
   "execution_count": null,
   "metadata": {},
   "outputs": [],
   "source": []
  },
  {
   "cell_type": "code",
   "execution_count": 196,
   "metadata": {},
   "outputs": [],
   "source": [
    "def greetme(**kwargs):\n",
    "    for key, value in kwargs.items():\n",
    "        print(\"{0} = {1}\".format(key, value))"
   ]
  },
  {
   "cell_type": "code",
   "execution_count": 197,
   "metadata": {},
   "outputs": [
    {
     "name": "stdout",
     "output_type": "stream",
     "text": [
      "name = dylan\n"
     ]
    }
   ],
   "source": [
    "greetme(name = 'dylan')"
   ]
  },
  {
   "cell_type": "code",
   "execution_count": 198,
   "metadata": {},
   "outputs": [
    {
     "data": {
      "text/plain": [
       "[StairsArtists(stairs=<matplotlib.patches.StepPatch object at 0x7f3734efe640>, errorbar=<ErrorbarContainer object of 3 artists>, legend_artist=<ErrorbarContainer object of 3 artists>)]"
      ]
     },
     "execution_count": 198,
     "metadata": {},
     "output_type": "execute_result"
    },
    {
     "data": {
      "image/png": "[encoded data removed]",
      "text/plain": [
       "<Figure size 432x288 with 1 Axes>"
      ]
     },
     "metadata": {
      "needs_background": "light"
     },
     "output_type": "display_data"
    }
   ],
   "source": [
    "ref_data = '/home/dylan/pioneer/atar_waveform/atar_waveform/data/BNL_Signal_Response.root'\n",
    "\n",
    "f = uproot.open(ref_data)\n",
    "\n",
    "h = f['pmax_histogram'].to_hist()\n",
    "\n",
    "h.plot()\n",
    "\n"
   ]
  },
  {
   "cell_type": "code",
   "execution_count": 199,
   "metadata": {},
   "outputs": [
    {
     "data": {
      "text/plain": [
       "[<matplotlib.lines.Line2D at 0x7f373566e880>]"
      ]
     },
     "execution_count": 199,
     "metadata": {},
     "output_type": "execute_result"
    },
    {
     "data": {
      "image/png": "[encoded data removed]",
      "text/plain": [
       "<Figure size 432x288 with 1 Axes>"
      ]
     },
     "metadata": {
      "needs_background": "light"
     },
     "output_type": "display_data"
    }
   ],
   "source": [
    "# Now I have to create a spline for this histogram for modelling purposes\n",
    "\n",
    "xs = np.linspace(h.axes[0].centers[0], h.axes[0].centers[-1], 1000)\n",
    "#The above creates evenly spaced values starting at one end of the histogram to the other\n",
    "\n",
    "\n",
    "ys = build_spline(h)(xs)\n",
    "\n",
    "fig, ax = plt.subplots()\n",
    "\n",
    "plt.plot(xs, ys)"
   ]
  },
  {
   "cell_type": "code",
   "execution_count": 200,
   "metadata": {},
   "outputs": [
    {
     "data": {
      "text/plain": [
       "200000"
      ]
     },
     "execution_count": 200,
     "metadata": {},
     "output_type": "execute_result"
    }
   ],
   "source": [
    "f = uproot.open('/home/dylan/pioneer/simulationdata/pienux_out_stripped.root:atar')\n",
    "\n",
    "data = f['pixel_edep'].array()\n",
    "\n",
    "# Number of vectors\n",
    "len(data)\n"
   ]
  },
  {
   "cell_type": "code",
   "execution_count": 201,
   "metadata": {},
   "outputs": [
    {
     "name": "stdout",
     "output_type": "stream",
     "text": [
      "[0.0445, 0.0939, 0.0618, 0.0264, 0.43, ... 0.0119, 0.0512, 0.0307, 0.00183, 0.0162]\n",
      "[102900, 102899, 102898, 102897, 102787, ... 100029, 100028, 100027, 100232, 100232]\n",
      "72 72\n"
     ]
    }
   ],
   "source": [
    "t = uproot.open('/home/dylan/pioneer/simulationdata/pienux_out_stripped.root:atar')\n",
    "data = t.arrays(['pixel_pdg', 'pixel_edep', 'pixel_time', 'pixel_hits'])\n",
    "pdg = data['pixel_pdg'][0]\n",
    "edep = data['pixel_edep'][0]\n",
    "time = data['pixel_time'][0]\n",
    "hits = data['pixel_hits'][0]\n",
    "\n",
    "\n",
    "print(edep)\n",
    "print(hits)\n",
    "print(len(edep),\n",
    "len(hits))"
   ]
  },
  {
   "cell_type": "code",
   "execution_count": 202,
   "metadata": {},
   "outputs": [],
   "source": [
    "def get_number_of_slits(spline_width, pitch, sensor_width):\n",
    "\n",
    "    '''\n",
    "        Based on slit parameters, returns how many other slits an energy \n",
    "        deposit hit can share with on one side assuming the original hit was in\n",
    "        center. \n",
    "    '''\n",
    "\n",
    "    a = spline_width - ((sensor_width/2) + pitch)\n",
    "    b = sensor_width + pitch\n",
    "\n",
    "    return int(np.floor((a/b) + 1))"
   ]
  },
  {
   "cell_type": "code",
   "execution_count": 203,
   "metadata": {},
   "outputs": [],
   "source": [
    "def adjacent_slits(pixel, n, pitch = 200, width = 100):\n",
    "    # return[x*pitch_plus_width + pixel for x in range(-n, n + 1)]\n",
    "    slits = []\n",
    "    for i in range(-n, n + 1):\n",
    "        if abs(i) < n:\n",
    "            slits.append(pixel + int(i * (pitch + width)))\n",
    "        elif i < 0:\n",
    "                slits.append(pixel + int((i + 1) * (pitch + width) - (pitch + width/2)))\n",
    "        else:\n",
    "            slits.append(pixel + int((i - 1) * (pitch + width) + (pitch + width/2)))  \n",
    "                  \n",
    "    return slits\n",
    "\n",
    "\n"
   ]
  },
  {
   "cell_type": "code",
   "execution_count": 204,
   "metadata": {},
   "outputs": [
    {
     "name": "stdout",
     "output_type": "stream",
     "text": [
      "[-750, -500, -200, 100, 400, 700, 950]\n"
     ]
    }
   ],
   "source": [
    "print(adjacent_slits(100, 3))"
   ]
  },
  {
   "cell_type": "code",
   "execution_count": 205,
   "metadata": {},
   "outputs": [
    {
     "ename": "IndentationError",
     "evalue": "expected an indented block (2896937067.py, line 16)",
     "output_type": "error",
     "traceback": [
      "\u001b[0;36m  Input \u001b[0;32mIn [205]\u001b[0;36m\u001b[0m\n\u001b[0;31m    \u001b[0m\n\u001b[0m    ^\u001b[0m\n\u001b[0;31mIndentationError\u001b[0m\u001b[0;31m:\u001b[0m expected an indented block\n"
     ]
    }
   ],
   "source": [
    "def share_energy(atar_tree, sensor_width = 100, pitch = 200):\n",
    "\n",
    "    data = atar_tree.arrays(['pixel_pdg', 'pixel_edep', 'pixel_time', 'pixel_hits'])\n",
    "    pdg = data['pixel_pdg'][0]\n",
    "    edep = data['pixel_edep'][0]\n",
    "    time = data['pixel_time'][0]\n",
    "    hits = data['pixel_hits'][0]\n",
    "\n",
    "\n",
    "    for hit in hits: \n",
    "\n",
    "\n",
    "\n",
    "\n",
    "\n",
    "\n"
   ]
  },
  {
   "cell_type": "code",
   "execution_count": null,
   "metadata": {},
   "outputs": [],
   "source": [
    "adjacent_slits(100, 2)"
   ]
  },
  {
   "cell_type": "code",
   "execution_count": null,
   "metadata": {},
   "outputs": [],
   "source": [
    "for i in range (-5, 5 + 1):\n",
    "    print(i)"
   ]
  },
  {
   "cell_type": "code",
   "execution_count": 218,
   "metadata": {},
   "outputs": [],
   "source": [
    "ref_data = '/home/dylan/pioneer/atar_waveform/atar_waveform/data/BNL_Signal_Response.root'\n",
    "\n",
    "f = uproot.open(ref_data)\n",
    "\n",
    "h = f['pmax_histogram'].to_hist()\n",
    "\n",
    "spline = build_spline(h)\n",
    "\n",
    "atar = uproot.open('/home/dylan/pioneer/simulationdata/pienux_out_stripped.root:atar')\n",
    "\n",
    "data = atar.arrays(['pixel_pdg', 'pixel_edep', 'pixel_time', 'pixel_hits'])\n",
    "pdg = data['pixel_pdg'][0]\n",
    "edep = data['pixel_edep'][0]\n",
    "time = data['pixel_time'][0]\n",
    "hits = data['pixel_hits'][0]\n",
    "\n",
    "\n",
    "\n",
    "for i,  hit in enumerate(hits):\n",
    "\n",
    "    these_energies = []\n",
    "\n",
    "    places = adjacent_slits(hit, n = 2)\n",
    "            \n",
    "    for pos in places:\n",
    "        energyi = spline(pos - hit) * edep[i]\n",
    "        these_energies.append(energyi)\n",
    "    \n",
    "    #Normalize the energies to conserve energy\n",
    "    these_energies = np.array(these_energies) * (edep[i]/np.sum(these_energies))\n",
    "\n",
    "# print(\"total Energy\", np.sum(these_energies), edep[i])\n",
    "\n",
    "        \n",
    "\n",
    "\n"
   ]
  },
  {
   "cell_type": "code",
   "execution_count": null,
   "metadata": {},
   "outputs": [],
   "source": []
  }
 ],
 "metadata": {
  "interpreter": {
   "hash": "d23b0352e553b5748113da9a07b5ed2f45837347ee467a96cbff33c6f1e840ca"
  },
  "kernelspec": {
   "display_name": "Python 3.9.5 ('base')",
   "language": "python",
   "name": "python3"
  },
  "language_info": {
   "codemirror_mode": {
    "name": "ipython",
    "version": 3
   },
   "file_extension": ".py",
   "mimetype": "text/x-python",
   "name": "python",
   "nbconvert_exporter": "python",
   "pygments_lexer": "ipython3",
   "version": "3.9.5"
  },
  "orig_nbformat": 4
 },
 "nbformat": 4,
 "nbformat_minor": 2
}
