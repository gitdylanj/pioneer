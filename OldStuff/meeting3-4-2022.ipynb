{
 "cells": [
  {
   "cell_type": "code",
   "execution_count": 43,
   "metadata": {},
   "outputs": [],
   "source": [
    "import uproot\n",
    "import matplotlib.pyplot as plt\n",
    "import numpy as np\n",
    "import hist as Hist\n",
    "import awkward as ak"
   ]
  },
  {
   "cell_type": "code",
   "execution_count": 49,
   "metadata": {},
   "outputs": [
    {
     "name": "stdout",
     "output_type": "stream",
     "text": [
      "digitized data energy: 4.803319554423562 number of pixels hit: 360\n",
      "actual data energy: 4.80331955442356 number of pixels hit: 72\n"
     ]
    }
   ],
   "source": [
    "from energy_sharingv2 import digitizeatar\n",
    "\n",
    "#Class must be initialized with path to histogram\n",
    "path = \"./BNL_Signal_Response.root\"\n",
    "\n",
    "f = uproot.open(path)\n",
    "class_version = digitizeatar(path)\n",
    "\n",
    "spline = class_version.build_spline()\n",
    "\n",
    "\n",
    "\n",
    "# h = f['pmax_histogram'].to_hist()\n",
    "# out = class_version.build_spline()\n",
    "# xs = np.linspace(h.axes[0].centers[0], h.axes[0].centers[-1], 1000)\n",
    "# ys = class_version.build_spline()(xs)\n",
    "# fig, ax = plt.subplots()\n",
    "# plt.plot(xs, ys)\n",
    "\n",
    "\n",
    "atar_data = uproot.open('/home/dylan/pioneer/simulationdata/pienux_out_stripped.root:atar')\n",
    "\n",
    "test = class_version.compute_energy_sharing(atar_data, spline, entry = 0)\n",
    "print('digitized data energy:', sum(test['pixel_edep']), 'number of pixels hit:', len(test['pixel_edep']))\n",
    "\n",
    "actual_data = atar_data['pixel_edep'].array()\n",
    "print('actual data energy:', sum(actual_data[0]), 'number of pixels hit:', len(actual_data[0]))\n",
    "\n"
   ]
  },
  {
   "cell_type": "code",
   "execution_count": 50,
   "metadata": {},
   "outputs": [],
   "source": [
    "createdfile = uproot.create('./testfile.root')"
   ]
  },
  {
   "cell_type": "code",
   "execution_count": 55,
   "metadata": {},
   "outputs": [],
   "source": [
    "local_path = './testfile.root'\n",
    "new_object = {'branch': ak.Array([1, 2, 3])}\n",
    "with uproot.update(local_path) as testfile:\n",
    "    testfile['hist'] = np.histogram(np.random.normal(0, 1, 100000))\n",
    "    testfile['dir'] = new_object\n"
   ]
  },
  {
   "cell_type": "code",
   "execution_count": 52,
   "metadata": {},
   "outputs": [
    {
     "name": "stdout",
     "output_type": "stream",
     "text": [
      "[1, 2, 3]\n"
     ]
    }
   ],
   "source": [
    "with uproot.open(local_path) as testfile:\n",
    "    out = testfile['dir']['branch']\n",
    "    print(out.array())"
   ]
  },
  {
   "cell_type": "code",
   "execution_count": 56,
   "metadata": {},
   "outputs": [
    {
     "name": "stdout",
     "output_type": "stream",
     "text": [
      "['hist;1', 'dir;1', 'hist;2', 'dir;2', 'hist;3', 'dir;3']\n"
     ]
    }
   ],
   "source": [
    "with uproot.open(local_path) as testfile:\n",
    "    out = testfile.keys()\n",
    "    print(out)"
   ]
  },
  {
   "cell_type": "code",
   "execution_count": null,
   "metadata": {},
   "outputs": [],
   "source": [
    "#Now I just have to figure out whether to build a new root file with just the updated atar data, or try to copy the old file without altering the original file and make the substitution. "
   ]
  },
  {
   "cell_type": "code",
   "execution_count": null,
   "metadata": {},
   "outputs": [],
   "source": []
  }
 ],
 "metadata": {
  "interpreter": {
   "hash": "d23b0352e553b5748113da9a07b5ed2f45837347ee467a96cbff33c6f1e840ca"
  },
  "kernelspec": {
   "display_name": "Python 3.9.5 ('base')",
   "language": "python",
   "name": "python3"
  },
  "language_info": {
   "codemirror_mode": {
    "name": "ipython",
    "version": 3
   },
   "file_extension": ".py",
   "mimetype": "text/x-python",
   "name": "python",
   "nbconvert_exporter": "python",
   "pygments_lexer": "ipython3",
   "version": "3.9.5"
  },
  "orig_nbformat": 4
 },
 "nbformat": 4,
 "nbformat_minor": 2
}
